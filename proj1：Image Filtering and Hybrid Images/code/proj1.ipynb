{
 "metadata": {
  "language_info": {
   "codemirror_mode": {
    "name": "ipython",
    "version": 3
   },
   "file_extension": ".py",
   "mimetype": "text/x-python",
   "name": "python",
   "nbconvert_exporter": "python",
   "pygments_lexer": "ipython3",
   "version": "3.7.7"
  },
  "orig_nbformat": 2,
  "kernelspec": {
   "name": "python3",
   "display_name": "Python 3.7.7 64-bit ('pytorch': conda)",
   "metadata": {
    "interpreter": {
     "hash": "eb031bbce033fa812dcec88de62f5abea6a352f76cdf43a5d1f21e2ea96289b4"
    }
   }
  }
 },
 "nbformat": 4,
 "nbformat_minor": 2,
 "cells": [
  {
   "source": [
    "# Project I. Image Filtering and Hybrid Images\n",
    "1. Test my_imfilter\n",
    "2. Generator blured image\n",
    "3. Generate hybrid image\n"
   ],
   "cell_type": "markdown",
   "metadata": {}
  },
  {
   "cell_type": "code",
   "execution_count": null,
   "metadata": {},
   "outputs": [],
   "source": [
    "import os\n",
    "import skimage\n",
    "from skimage.transform import rescale\n",
    "import numpy as np\n",
    "from numpy import pi, exp, sqrt\n",
    "import matplotlib\n",
    "import matplotlib.pyplot as plt\n",
    "from student import vis_hybrid_image, load_image, save_image, my_imfilter, gen_hybrid_image"
   ]
  },
  {
   "source": [
    "Project I part 1 - Tests on my_imfilter function"
   ],
   "cell_type": "markdown",
   "metadata": {}
  },
  {
   "cell_type": "code",
   "execution_count": null,
   "metadata": {},
   "outputs": [],
   "source": [
    "resultsDir = '..' + os.sep + 'results'\n",
    "if not os.path.exists( resultsDir ):\n",
    "    os.mkdir( resultsDir )\n",
    "\n",
    "test_image = load_image('../data/cat.bmp')\n",
    "print(test_image.shape)\n",
    "test_image = rescale(test_image, [0.7, 0.7, 1], mode='reflect')\n",
    "print(test_image.shape)"
   ]
  },
  {
   "source": [
    "Identity filter.\n",
    "This filter should do nothing regardless of the padding method you use."
   ],
   "cell_type": "markdown",
   "metadata": {}
  },
  {
   "cell_type": "code",
   "execution_count": null,
   "metadata": {},
   "outputs": [],
   "source": [
    "identity_filter = np.asarray([[0, 0, 0], [0, 1, 0], [0, 0, 0]], dtype=np.float32)\n",
    "identity_image = my_imfilter(test_image, identity_filter)\n",
    "plt.imshow(identity_image)\n",
    "done = save_image('../results/identity_image.jpg', identity_image)"
   ]
  },
  {
   "source": [
    "Small blur with a box filter.\n",
    "This filter should remove some high frequencies."
   ],
   "cell_type": "markdown",
   "metadata": {}
  },
  {
   "cell_type": "code",
   "execution_count": null,
   "metadata": {},
   "outputs": [],
   "source": [
    "blur_filter = np.ones((3, 3), dtype=np.float32)\n",
    "blur_filter /= np.sum(blur_filter, dtype=np.float32)  # making the filter sum to 1\n",
    "blur_image = my_imfilter(test_image, blur_filter)\n",
    "plt.imshow(blur_image)\n",
    "done = save_image(resultsDir + os.sep + 'blur_image.jpg', blur_image)"
   ]
  },
  {
   "source": [
    "Large blur.\n",
    "This blur would be slow to do directly, so we instead use the fact that Gaussian blurs are separable and blur sequentially in each direction."
   ],
   "cell_type": "markdown",
   "metadata": {}
  },
  {
   "cell_type": "code",
   "execution_count": null,
   "metadata": {},
   "outputs": [],
   "source": [
    "# generate a 1x(2k+1) gaussian kernel with mean=0 and sigma = s, see https://stackoverflow.com/questions/17190649/how-to-obtain-a-gaussian-filter-in-python\n",
    "s, k = 10, 12\n",
    "large_1d_blur_filter = np.asarray([exp(-z*z/(2*s*s))/sqrt(2*pi*s*s) for z in range(-k,k+1)], dtype=np.float32) \n",
    "large_1d_blur_filter = large_1d_blur_filter.reshape(-1,1)\n",
    "large_blur_image = my_imfilter(test_image, large_1d_blur_filter)\n",
    "# notice the T operator which transposes the filter\n",
    "large_blur_image = my_imfilter(large_blur_image, large_1d_blur_filter.T)\n",
    "plt.imshow(large_blur_image)\n",
    "done = save_image(resultsDir + os.sep + 'large_blur_image.jpg', large_blur_image)"
   ]
  },
  {
   "source": [
    "Oriented filter (Sobel operator)"
   ],
   "cell_type": "markdown",
   "metadata": {}
  },
  {
   "cell_type": "code",
   "execution_count": null,
   "metadata": {},
   "outputs": [],
   "source": [
    "sobel_filter = np.asarray([[-1, 0, 1], [-2, 0, 2], [-1, 0, 1]], dtype=np.float32)  # should respond to horizontal gradients\n",
    "sobel_image = my_imfilter(test_image, sobel_filter)\n",
    "\n",
    "# 0.5 added because the output image is centered around zero otherwise and mostly black\n",
    "sobel_image = np.clip(sobel_image+0.5, 0.0, 1.0)\n",
    "plt.imshow(sobel_image)\n",
    "done = save_image(resultsDir + os.sep + 'sobel_image.jpg', sobel_image)"
   ]
  },
  {
   "source": [
    "High pass filter (discrete Laplacian)"
   ],
   "cell_type": "markdown",
   "metadata": {}
  },
  {
   "cell_type": "code",
   "execution_count": null,
   "metadata": {},
   "outputs": [],
   "source": [
    "laplacian_filter = np.asarray([[0, 1, 0], [1, -4, 1], [0, 1, 0]], dtype=np.float32)\n",
    "laplacian_image = my_imfilter(test_image, laplacian_filter)\n",
    "\n",
    "# added because the output image is centered around zero otherwise and mostly black\n",
    "laplacian_image = np.clip(laplacian_image+0.5, 0.0, 1.0)\n",
    "plt.figure(); plt.imshow(laplacian_image)\n",
    "done = save_image(resultsDir + os.sep + 'laplacian_image.jpg', laplacian_image)\n",
    "\n",
    "# High pass \"filter\" alternative\n",
    "high_pass_image = test_image - blur_image\n",
    "high_pass_image = np.clip(high_pass_image+0.5, 0.0, 1.0)\n",
    "plt.figure(); plt.imshow(high_pass_image)\n",
    "done = save_image(resultsDir + os.sep + 'high_pass_image.jpg', high_pass_image)"
   ]
  },
  {
   "source": [
    "Project I part 2 - Generate Hybrid Image"
   ],
   "cell_type": "markdown",
   "metadata": {}
  },
  {
   "cell_type": "code",
   "execution_count": null,
   "metadata": {},
   "outputs": [],
   "source": [
    "image1 = load_image('../data/dog.bmp')\n",
    "image2 = load_image('../data/cat.bmp')\n",
    "\n",
    "# display the dog and cat images\n",
    "plt.figure(figsize=(3,3)) \n",
    "plt.imshow((image1*255).astype(np.uint8))\n",
    "plt.figure(figsize=(3,3))\n",
    "plt.imshow((image2*255).astype(np.uint8))\n",
    "cutoff_frequency = 7\n",
    "low_frequencies, high_frequencies, hybrid_image = gen_hybrid_image(image1, image2, cutoff_frequency)\n",
    "## Visualize and save outputs ##\n",
    "plt.figure()\n",
    "plt.imshow((low_frequencies*255).astype(np.uint8))\n",
    "plt.figure()\n",
    "plt.imshow(((high_frequencies+0.5)*255).astype(np.uint8))\n",
    "vis = vis_hybrid_image(hybrid_image)\n",
    "plt.figure(figsize=(20, 20))\n",
    "plt.imshow(vis)\n",
    "low_frequencies = np.clip(low_frequencies, 0.0, 1.0)\n",
    "high_frequencies = np.clip(high_frequencies, 0.0, 1.0)\n",
    "hybrid_image = np.clip(hybrid_image, 0.0, 1.0)\n",
    "vis = np.clip(vis, 0.0, 1.0)\n",
    "save_image('../results/low_frequencies.jpg', low_frequencies)\n",
    "save_image('../results/high_frequencies.jpg', high_frequencies)\n",
    "save_image('../results/hybrid_image.jpg', hybrid_image)\n",
    "save_image('../results/hybrid_image_scales.jpg', vis)"
   ]
  },
  {
   "cell_type": "code",
   "execution_count": null,
   "metadata": {},
   "outputs": [],
   "source": []
  }
 ]
}